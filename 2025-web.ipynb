{
 "cells": [
  {
   "cell_type": "markdown",
   "metadata": {},
   "source": [
    "# Super Fun Lottery\n",
    "\n",
    "It is game - at the end of semester, the following code will be executed. Students, that were present at that date on faculty, will receive 20 points.\n",
    "\n",
    "*Let the game begin!*"
   ]
  },
  {
   "cell_type": "code",
   "execution_count": null,
   "metadata": {},
   "outputs": [],
   "source": [
    "import datetime\n",
    "import random"
   ]
  },
  {
   "cell_type": "markdown",
   "metadata": {},
   "source": [
    "**211-А**"
   ]
  },
  {
   "cell_type": "code",
   "execution_count": null,
   "metadata": {},
   "outputs": [],
   "source": [
    "dates = [\n",
    "    datetime.date(2025, 3, 19),\n",
    "    datetime.date(2025, 3, 26),\n",
    "    datetime.date(2025, 4, 2),\n",
    "    datetime.date(2025, 4, 9),\n",
    "    datetime.date(2025, 4, 16),\n",
    "    datetime.date(2025, 4, 23),\n",
    "    datetime.date(2025, 4, 30),\n",
    "    datetime.date(2025, 5, 7),\n",
    "    datetime.date(2025, 5, 14),\n",
    "    datetime.date(2025, 5, 21),\n",
    "    datetime.date(2025, 5, 28)\n",
    "]\n",
    "\n",
    "lottery_winner = random.choice(dates)\n",
    "print(lottery_winner)"
   ]
  },
  {
   "cell_type": "markdown",
   "metadata": {},
   "source": [
    "**201-Б**"
   ]
  },
  {
   "cell_type": "code",
   "execution_count": null,
   "metadata": {},
   "outputs": [],
   "source": [
    "dates = [\n",
    "    datetime.date(2025, 3, 19),\n",
    "    datetime.date(2025, 3, 26),\n",
    "    datetime.date(2025, 4, 2),\n",
    "    datetime.date(2025, 4, 9),\n",
    "    datetime.date(2025, 4, 16),\n",
    "    datetime.date(2025, 4, 23),\n",
    "    datetime.date(2025, 4, 30),\n",
    "    datetime.date(2025, 5, 7),\n",
    "    datetime.date(2025, 5, 14),\n",
    "    datetime.date(2025, 5, 21),\n",
    "    datetime.date(2025, 5, 28)\n",
    "]\n",
    "\n",
    "lottery_winner = random.choice(dates)\n",
    "print(lottery_winner)"
   ]
  },
  {
   "cell_type": "markdown",
   "metadata": {},
   "source": [
    "**211-Б**"
   ]
  },
  {
   "cell_type": "code",
   "execution_count": null,
   "metadata": {},
   "outputs": [],
   "source": [
    "dates = [\n",
    "    datetime.date(2025, 3, 20),\n",
    "    datetime.date(2025, 3, 27),\n",
    "    datetime.date(2025, 4, 3),\n",
    "    datetime.date(2025, 4, 10),\n",
    "    datetime.date(2025, 4, 17),\n",
    "    datetime.date(2025, 4, 24),\n",
    "    datetime.date(2025, 5, 1),\n",
    "    datetime.date(2025, 5, 8),\n",
    "    datetime.date(2025, 5, 15),\n",
    "    datetime.date(2025, 5, 22),\n",
    "    datetime.date(2025, 5, 29)\n",
    "]\n",
    "\n",
    "lottery_winner = random.choice(dates)\n",
    "print(lottery_winner)"
   ]
  }
 ],
 "metadata": {
  "language_info": {
   "name": "python"
  }
 },
 "nbformat": 4,
 "nbformat_minor": 2
}
